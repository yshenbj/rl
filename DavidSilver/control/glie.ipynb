{
 "cells": [
  {
   "cell_type": "code",
   "execution_count": 2,
   "metadata": {},
   "outputs": [],
   "source": [
    "import numpy as np\n",
    "import random\n",
    "import itertools\n",
    "from tqdm import tqdm\n",
    "from IPython.display import Image"
   ]
  },
  {
   "cell_type": "code",
   "execution_count": 3,
   "metadata": {},
   "outputs": [
    {
     "data": {
      "image/png": "[encoded data removed]",
      "text/plain": [
       "<IPython.core.display.Image object>"
      ]
     },
     "execution_count": 3,
     "metadata": {},
     "output_type": "execute_result"
    }
   ],
   "source": [
    "Image(\"maze.png\")"
   ]
  },
  {
   "cell_type": "code",
   "execution_count": 7,
   "metadata": {},
   "outputs": [],
   "source": [
    "class env():\n",
    "    def __init__(self):\n",
    "        self.start = [2, 0]\n",
    "        self.goal = [0, 8]\n",
    "        self.walls = [[1, 2], [2, 2], [3, 2], [4, 5], [0, 7], [1, 7], [2, 7]]\n",
    "        self.q = np.zeros((6, 9, 4))\n",
    "        self.n = np.zeros((6, 9, 4))\n",
    "\n",
    "    def step(self, s, a):\n",
    "        # a = 0, 1, 2, 3 (w, n, e, s).\n",
    "        if a == 0:\n",
    "            s[1] = max(0, s[1] - 1)\n",
    "            if s in self.walls:\n",
    "                s[1] += 1\n",
    "        elif a == 1:\n",
    "            s[0] = max(0, s[0] - 1)\n",
    "            if s in self.walls:\n",
    "                s[0] += 1\n",
    "        elif a == 2:\n",
    "            s[1] = min(8, s[1] + 1)\n",
    "            if s in self.walls:\n",
    "                s[1] -= 1\n",
    "        elif a == 3:\n",
    "            s[0] = min(5, s[0] + 1)\n",
    "            if s in self.walls:\n",
    "                s[0] -= 1\n",
    "        return s\n",
    "    \n",
    "    def reward(self, s, a):\n",
    "        if (s == [1, 8]) and (a == 1):\n",
    "            return 1\n",
    "        else:\n",
    "            return -0.1\n",
    "    \n",
    "    def sampling(self, epsilon):\n",
    "        s_ls = []\n",
    "        a_ls = []\n",
    "        r_ls = []\n",
    "        n = 0\n",
    "        s = self.start.copy() \n",
    "        while s != self.goal:\n",
    "            random_step = random.random() < epsilon\n",
    "            s_ls.append(s.copy())\n",
    "            if random_step:\n",
    "                a = random.randint(0, 3)\n",
    "            else:\n",
    "                qa = self.q[s[0], s[1]]\n",
    "                top_a = np.argwhere(qa == np.max(qa)).flatten()\n",
    "                a = top_a[0] if len(top_a) == 1 else random.randint(0, 3)\n",
    "            a_ls.append(a)\n",
    "            r_ls.append(self.reward(s, a))\n",
    "            s = self.step(s, a)\n",
    "            n += 1\n",
    "        return s_ls, a_ls, r_ls, n\n",
    "\n",
    "    def glie(self, n_iter, gamma=0.9):\n",
    "        k = 0\n",
    "        for _ in tqdm(range(n_iter)):\n",
    "            epsilon = max(0.999 ** k, 0.01)\n",
    "            s_ls, a_ls, r_ls, n = self.sampling(epsilon) \n",
    "            for i in range(n):\n",
    "                g = 0\n",
    "                for j in range(n - i):\n",
    "                    g += gamma ** j * r_ls[i + j]\n",
    "                s = s_ls[i]\n",
    "                a = a_ls[i]\n",
    "                self.n[s[0], s[1], a] += 1 \n",
    "                self.q[s[0], s[1], a] += (g - self.q[s[0], s[1], a]) / self.n[s[0], s[1], a]\n",
    "            k += 1\n",
    "        return self.q"
   ]
  },
  {
   "cell_type": "code",
   "execution_count": 8,
   "metadata": {},
   "outputs": [
    {
     "name": "stderr",
     "output_type": "stream",
     "text": [
      "100%|██████████| 10000/10000 [00:05<00:00, 1732.97it/s]\n"
     ]
    }
   ],
   "source": [
    "e = env()\n",
    "v = e.glie(10000)"
   ]
  },
  {
   "cell_type": "code",
   "execution_count": 9,
   "metadata": {},
   "outputs": [
    {
     "name": "stdout",
     "output_type": "stream",
     "text": [
      "[[2 2 2 2 3 2 3 0 0]\n",
      " [1 1 0 2 3 3 3 0 1]\n",
      " [3 1 0 2 2 3 3 0 1]\n",
      " [3 3 0 2 2 2 2 2 1]\n",
      " [2 2 2 2 3 0 2 2 1]\n",
      " [2 2 2 2 2 2 1 2 1]]\n"
     ]
    }
   ],
   "source": [
    "print(np.argmax(v, axis=2))"
   ]
  }
 ],
 "metadata": {
  "kernelspec": {
   "display_name": "base",
   "language": "python",
   "name": "python3"
  },
  "language_info": {
   "codemirror_mode": {
    "name": "ipython",
    "version": 3
   },
   "file_extension": ".py",
   "mimetype": "text/x-python",
   "name": "python",
   "nbconvert_exporter": "python",
   "pygments_lexer": "ipython3",
   "version": "3.8.2"
  }
 },
 "nbformat": 4,
 "nbformat_minor": 2
}
