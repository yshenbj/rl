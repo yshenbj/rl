{
 "cells": [
  {
   "cell_type": "code",
   "execution_count": 1,
   "metadata": {},
   "outputs": [],
   "source": [
    "import numpy as np \n",
    "import random\n",
    "import itertools\n",
    "from tqdm import tqdm\n",
    "import json\n",
    "from blackjack import *"
   ]
  },
  {
   "cell_type": "code",
   "execution_count": 2,
   "metadata": {},
   "outputs": [
    {
     "name": "stdout",
     "output_type": "stream",
     "text": [
      "Winning rate is 0.388667.\n"
     ]
    }
   ],
   "source": [
    "q = json.load(open('./mc_q_1e8.json'))\n",
    "ai = Agent(q)\n",
    "n_total = 1000000\n",
    "n_win = 0\n",
    "for i in range(n_total):\n",
    "    e = BlackJackSingleEnv(print_cards=False)\n",
    "    res = e.play(ai)\n",
    "    if res > 0:\n",
    "        n_win += 1\n",
    "print(f'Winning rate is {n_win/n_total}.')"
   ]
  },
  {
   "cell_type": "code",
   "execution_count": 25,
   "metadata": {},
   "outputs": [
    {
     "name": "stdout",
     "output_type": "stream",
     "text": [
      "Player's card:\n",
      "10\n",
      "Dealer's card:\n",
      "3\n",
      "Player's card:\n",
      "4\n",
      "Your action? (Stay:0 / Hit:1)\n",
      "Dealer's cards:\n",
      "3\n",
      "2\n",
      "10\n",
      "1\n",
      "10\n",
      "You win!\n"
     ]
    },
    {
     "data": {
      "text/plain": [
       "1"
      ]
     },
     "execution_count": 25,
     "metadata": {},
     "output_type": "execute_result"
    }
   ],
   "source": [
    "e = BlackJackSingleEnv(print_cards=True)\n",
    "e.play(ai)"
   ]
  },
  {
   "cell_type": "code",
   "execution_count": 23,
   "metadata": {},
   "outputs": [
    {
     "name": "stdout",
     "output_type": "stream",
     "text": [
      "Player's card:\n",
      "9\n",
      "Dealer's card:\n",
      "5\n",
      "Player's card:\n",
      "3\n",
      "Your action? (Stay:0 / Hit:1)\n",
      "Player's card:\n",
      "10\n",
      "You lose!\n"
     ]
    },
    {
     "data": {
      "text/plain": [
       "-1"
      ]
     },
     "execution_count": 23,
     "metadata": {},
     "output_type": "execute_result"
    }
   ],
   "source": [
    "h = Human()\n",
    "e = BlackJackSingleEnv(print_cards=True)\n",
    "e.play(h)"
   ]
  },
  {
   "cell_type": "code",
   "execution_count": null,
   "metadata": {},
   "outputs": [],
   "source": []
  }
 ],
 "metadata": {
  "kernelspec": {
   "display_name": "base",
   "language": "python",
   "name": "python3"
  },
  "language_info": {
   "codemirror_mode": {
    "name": "ipython",
    "version": 3
   },
   "file_extension": ".py",
   "mimetype": "text/x-python",
   "name": "python",
   "nbconvert_exporter": "python",
   "pygments_lexer": "ipython3",
   "version": "3.8.2"
  }
 },
 "nbformat": 4,
 "nbformat_minor": 2
}
