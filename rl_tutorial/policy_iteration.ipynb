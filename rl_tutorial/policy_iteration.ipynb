{
 "cells": [
  {
   "cell_type": "code",
   "execution_count": 1,
   "metadata": {},
   "outputs": [],
   "source": [
    "import random\n",
    "from collections import defaultdict"
   ]
  },
  {
   "cell_type": "code",
   "execution_count": null,
   "metadata": {},
   "outputs": [],
   "source": [
    "class Policy:\n",
    "    def select_action(self, state, action):\n",
    "        pass\n",
    "\n",
    "\n",
    "class DeterministicPolicy(Policy):\n",
    "    def update(self, state, action):\n",
    "        pass\n",
    "\n",
    "\n",
    "class TabularPolicy(DeterministicPolicy):\n",
    "    def __init__(self, default_action=None):\n",
    "        self.policy_table = defaultdict(lambda: default_action)\n",
    "\n",
    "    def select_action(self, state, actions):\n",
    "        return self.policy_table[state]\n",
    "\n",
    "    def update(self, state, action):\n",
    "        self.policy_table[state] = action"
   ]
  },
  {
   "cell_type": "code",
   "execution_count": 3,
   "metadata": {},
   "outputs": [],
   "source": [
    "class ValueFunction():\n",
    "\n",
    "    def update(self, state, value):\n",
    "        pass\n",
    "\n",
    "    def merge(self, value_table):\n",
    "        pass\n",
    "\n",
    "    def get_value(self, state):\n",
    "        pass\n",
    "\n",
    "    \"\"\" Return the Q-value of action in state \"\"\"\n",
    "    def get_q_value(self, mdp, state, action):\n",
    "        q_value = 0.0\n",
    "        for (new_state, probability) in mdp.get_transitions(state, action):\n",
    "            reward = mdp.get_reward(state, action, new_state)\n",
    "            q_value += probability * (\n",
    "                reward\n",
    "                + (mdp.get_discount_factor() * self.get_value(new_state))\n",
    "            )\n",
    "\n",
    "        return q_value\n",
    "\n",
    "    \"\"\" Return a policy from this value function \"\"\"\n",
    "\n",
    "    def extract_policy(self, mdp):\n",
    "        policy = TabularPolicy()\n",
    "        for state in mdp.get_states():\n",
    "            max_q = float(\"-inf\")\n",
    "            for action in mdp.get_actions(state):\n",
    "                q_value = self.get_q_value(mdp, state, action)\n",
    "\n",
    "                # If this is the maximum Q-value so far,\n",
    "                # set the policy for this state\n",
    "                if q_value > max_q:\n",
    "                    policy.update(state, action)\n",
    "                    max_q = q_value\n",
    "\n",
    "        return policy\n",
    "\n",
    "\n",
    "class TabularValueFunction(ValueFunction):\n",
    "    def __init__(self, default=0.0):\n",
    "        self.value_table = defaultdict(lambda: default)\n",
    "\n",
    "    def update(self, state, value):\n",
    "        self.value_table[state] = value\n",
    "\n",
    "    def merge(self, value_table):\n",
    "        for state in value_table.value_table.keys():\n",
    "            self.update(state, value_table.get_value(state))\n",
    "\n",
    "    def get_value(self, state):\n",
    "        return self.value_table[state]"
   ]
  },
  {
   "cell_type": "code",
   "execution_count": null,
   "metadata": {},
   "outputs": [],
   "source": [
    "\n"
   ]
  },
  {
   "cell_type": "code",
   "execution_count": null,
   "metadata": {},
   "outputs": [],
   "source": [
    "class PolicyIteration:\n",
    "    def __init__(self, mdp, policy):\n",
    "        self.mdp = mdp\n",
    "        self.policy = policy\n",
    "    \n",
    "    def policy_evaluation(self, policy, values, theta=0.001):\n",
    "        \n",
    "        while True:\n",
    "            delta= 0.0\n",
    "            new_values = TabularPolicy()"
   ]
  }
 ],
 "metadata": {
  "kernelspec": {
   "display_name": "rl",
   "language": "python",
   "name": "python3"
  },
  "language_info": {
   "codemirror_mode": {
    "name": "ipython",
    "version": 3
   },
   "file_extension": ".py",
   "mimetype": "text/x-python",
   "name": "python",
   "nbconvert_exporter": "python",
   "pygments_lexer": "ipython3",
   "version": "3.10.13"
  }
 },
 "nbformat": 4,
 "nbformat_minor": 2
}
