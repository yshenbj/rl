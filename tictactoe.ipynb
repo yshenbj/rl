{
 "cells": [
  {
   "cell_type": "code",
   "execution_count": 2,
   "metadata": {},
   "outputs": [],
   "source": [
    "import math\n",
    "import random\n",
    "from collections import defaultdict\n",
    "from itertools import starmap\n",
    "\n",
    "import numpy as np\n",
    "import gymnasium as gym\n",
    "from gymnasium.spaces import Discrete\n",
    "import torch\n",
    "import torch.nn as nn\n",
    "import torch.optim as optim\n",
    "import torch.nn.functional as F\n",
    "import matplotlib.pyplot as plt\n",
    "\n",
    "import games"
   ]
  },
  {
   "cell_type": "code",
   "execution_count": 24,
   "metadata": {},
   "outputs": [],
   "source": [
    "class Net(nn.Module):\n",
    "    def __init__(self):\n",
    "        super().__init__()\n",
    "        # common layers\n",
    "        self.conv1 = nn.Conv2d(1, 32, kernel_size=3, padding=1)\n",
    "        self.conv2 = nn.Conv2d(32, 64, kernel_size=3, padding=1)\n",
    "        self.conv3 = nn.Conv2d(64, 128, kernel_size=3, padding=1)\n",
    "        # action policy layers\n",
    "        self.act_conv1 = nn.Conv2d(128, 4, kernel_size=1)\n",
    "        self.act_fc1 = nn.Linear(4*3*3, 3*3)\n",
    "        # state value layers\n",
    "        self.val_conv1 = nn.Conv2d(128, 4, kernel_size=1)\n",
    "        self.val_fc1 = nn.Linear(4*3*3, 1)\n",
    "    \n",
    "    def forward(self, x):\n",
    "        x = F.relu(self.conv1(x))\n",
    "        x = F.relu(self.conv2(x))\n",
    "        x = F.relu(self.conv3(x))\n",
    "        x_act = F.relu(self.act_conv1(x))\n",
    "        x_act = x_act.view(-1, 4*3*3)\n",
    "        x_act = F.log_softmax(self.act_fc1(x_act), dim=-1)\n",
    "        x_val = F.relu(self.val_conv1(x))\n",
    "        x_val = x_val.view(-1, 4*3*3)\n",
    "        x_val = F.relu(self.val_fc1(x_val))\n",
    "        return x_act, x_val\n",
    "    \n",
    "class PolicyValueNet:\n",
    "    def __init__(self):\n",
    "        self.device = torch.device(\"cuda\" if torch.cuda.is_available() else \"cpu\")\n",
    "        self.net = Net().to(self.device)\n",
    "        self.lr = 1e-3\n",
    "        self.c = 1e-4\n",
    "        self.optimizer = optim.Adam(self.net.parameters(), lr=self.lr, weight_decay=self.c)\n",
    "    \n",
    "    def policy_value(self, state):\n",
    "        state = torch.as_tensor(state, dtype=torch.float32, device=self.device)\n",
    "        with torch.no_grad():\n",
    "            log_action_p, value = self.net(state)\n",
    "        action_p = np.exp(log_action_p.cpu().numpy())\n",
    "        value = value.cpu().numpy()\n",
    "        return action_p, value   \n",
    "    \n",
    "    def update(self, state, mcts_p, is_winner):\n",
    "        state = torch.tensor(state, dtype=torch.float32, device=self.device)\n",
    "        mcts_p = torch.tensor(mcts_p, dtype=torch.float32, device=self.device)\n",
    "        is_winner = torch.tensor(is_winner, dtype=torch.float32, device=self.device)\n",
    "        self.optimizer.zero_grad()\n",
    "        log_action_p, value = self.net(state)\n",
    "        # mse loss for the state value\n",
    "        value_loss = F.mse_loss(value.view(-1), is_winner)\n",
    "        # cross entorpy loss for the search probabilities \n",
    "        policy_loss = torch.mean(torch.sum(mcts_p * log_action_p, -1))\n",
    "        # total loss\n",
    "        loss = value_loss - policy_loss\n",
    "        loss.backward()\n",
    "        self.optimizer.step()\n",
    "        return value_loss.item(), -1 * policy_loss.item()\n",
    "            \n",
    "    def save(self, filename):\n",
    "        torch.save(self.state_dict(), filename)\n",
    "    \n",
    "    @classmethod\n",
    "    def load(cls, filename):\n",
    "        policy_value_net = cls()\n",
    "        policy_value_net.net.load_state_dict(torch.load(filename))\n",
    "        return policy_value_net"
   ]
  },
  {
   "cell_type": "code",
   "execution_count": 25,
   "metadata": {},
   "outputs": [],
   "source": [
    "# envs = gym.vector.SyncVectorEnv(\n",
    "#     [\n",
    "#     lambda: gym.make('games/TicTacToe') for _ in range(10)\n",
    "#     ]\n",
    "# )\n",
    "net = PolicyValueNet()\n",
    "env =  gym.make('games/TicTacToe')\n",
    "observation, info = env.reset()\n",
    "state = torch.tensor(observation, dtype=torch.float32).unsqueeze(0)\n",
    "action_space = env.action_space"
   ]
  },
  {
   "cell_type": "code",
   "execution_count": 26,
   "metadata": {},
   "outputs": [
    {
     "data": {
      "text/plain": [
       "(array([[0.13297485, 0.10576169, 0.11667343, 0.11553747, 0.10135774,\n",
       "         0.09500153, 0.12840688, 0.1045278 , 0.09975873]], dtype=float32),\n",
       " array([[0.11437383]], dtype=float32))"
      ]
     },
     "execution_count": 26,
     "metadata": {},
     "output_type": "execute_result"
    }
   ],
   "source": [
    "net.policy_value(state)"
   ]
  }
 ],
 "metadata": {
  "kernelspec": {
   "display_name": "rl",
   "language": "python",
   "name": "python3"
  },
  "language_info": {
   "codemirror_mode": {
    "name": "ipython",
    "version": 3
   },
   "file_extension": ".py",
   "mimetype": "text/x-python",
   "name": "python",
   "nbconvert_exporter": "python",
   "pygments_lexer": "ipython3",
   "version": "3.10.13"
  }
 },
 "nbformat": 4,
 "nbformat_minor": 2
}
