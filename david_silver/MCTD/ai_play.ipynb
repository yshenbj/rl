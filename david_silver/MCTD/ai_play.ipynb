{
 "cells": [
  {
   "cell_type": "code",
   "execution_count": 1,
   "metadata": {},
   "outputs": [],
   "source": [
    "import numpy as np \n",
    "import random\n",
    "import itertools\n",
    "from tqdm import tqdm\n",
    "import json\n",
    "from blackjack import *"
   ]
  },
  {
   "cell_type": "code",
   "execution_count": 2,
   "metadata": {},
   "outputs": [
    {
     "name": "stdout",
     "output_type": "stream",
     "text": [
      "Winning rate is 0.389192.\n"
     ]
    }
   ],
   "source": [
    "q = json.load(open('./mc_q.json'))\n",
    "ai = Agent(q)\n",
    "n_total = 1000000\n",
    "n_win = 0\n",
    "for i in range(n_total):\n",
    "    e = BlackJackSingleEnv(print_cards=False)\n",
    "    res = e.play(ai)\n",
    "    if res > 0:\n",
    "        n_win += 1\n",
    "print(f'Winning rate is {n_win/n_total}.')\n",
    "# 0.389"
   ]
  }
 ],
 "metadata": {
  "kernelspec": {
   "display_name": "base",
   "language": "python",
   "name": "python3"
  },
  "language_info": {
   "codemirror_mode": {
    "name": "ipython",
    "version": 3
   },
   "file_extension": ".py",
   "mimetype": "text/x-python",
   "name": "python",
   "nbconvert_exporter": "python",
   "pygments_lexer": "ipython3",
   "version": "3.10.13"
  }
 },
 "nbformat": 4,
 "nbformat_minor": 2
}
