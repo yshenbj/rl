{
 "cells": [
  {
   "cell_type": "code",
   "execution_count": 3,
   "metadata": {},
   "outputs": [],
   "source": [
    "import copy\n",
    "import numpy as np\n",
    "import gymnasium as gym\n",
    "\n",
    "import torch\n",
    "import torch.nn as nn\n",
    "import torch.optim as optim\n",
    "import torch.nn.functional as F\n",
    "\n",
    "import games"
   ]
  },
  {
   "cell_type": "code",
   "execution_count": 4,
   "metadata": {},
   "outputs": [],
   "source": [
    "class Net(nn.Module):\n",
    "    def __init__(self):\n",
    "        super().__init__()\n",
    "        # common layers\n",
    "        self.conv1 = nn.Conv2d(2, 32, kernel_size=3, padding=1)\n",
    "        self.conv2 = nn.Conv2d(32, 64, kernel_size=3, padding=1)\n",
    "        self.conv3 = nn.Conv2d(64, 128, kernel_size=3, padding=1)\n",
    "        # action policy layers\n",
    "        self.act_conv1 = nn.Conv2d(128, 4, kernel_size=1)\n",
    "        self.act_fc1 = nn.Linear(4*3*3, 3*3)\n",
    "        # state value layers\n",
    "        self.val_conv1 = nn.Conv2d(128, 4, kernel_size=1)\n",
    "        self.val_fc1 = nn.Linear(4*3*3, 1)\n",
    "    \n",
    "    def forward(self, x):\n",
    "        x = F.relu(self.conv1(x))\n",
    "        x = F.relu(self.conv2(x))\n",
    "        x = F.relu(self.conv3(x))\n",
    "        x_act = F.relu(self.act_conv1(x))\n",
    "        x_act = x_act.view(-1, 4*3*3)\n",
    "        x_act = F.log_softmax(self.act_fc1(x_act), dim=-1)\n",
    "        x_val = F.relu(self.val_conv1(x))\n",
    "        x_val = x_val.view(-1, 4*3*3)\n",
    "        x_val = F.relu(self.val_fc1(x_val))\n",
    "        return x_act, x_val\n",
    "    \n",
    "class PolicyValueNet:\n",
    "    def __init__(self):\n",
    "        self.device = torch.device(\"cuda\" if torch.cuda.is_available() else \"cpu\")\n",
    "        self.net = Net().to(self.device)\n",
    "        self.lr = 1e-3\n",
    "        self.c = 1e-4\n",
    "        self.optimizer = optim.Adam(self.net.parameters(), lr=self.lr, weight_decay=self.c)\n",
    "    \n",
    "    def policy_value(self, state):\n",
    "        state = torch.as_tensor(state, dtype=torch.float32, device=self.device)\n",
    "        with torch.no_grad():\n",
    "            log_action_p, value = self.net(state)\n",
    "        action_p = np.exp(log_action_p.cpu().numpy())\n",
    "        value = value.cpu().numpy()\n",
    "        return action_p, value   \n",
    "    \n",
    "    def update(self, state, mcts_p, is_winner):\n",
    "        state = torch.tensor(state, dtype=torch.float32, device=self.device)\n",
    "        mcts_p = torch.tensor(mcts_p, dtype=torch.float32, device=self.device)\n",
    "        is_winner = torch.tensor(is_winner, dtype=torch.float32, device=self.device)\n",
    "        self.optimizer.zero_grad()\n",
    "        log_action_p, value = self.net(state)\n",
    "        # mse loss for the state value\n",
    "        value_loss = F.mse_loss(value.view(-1), is_winner)\n",
    "        # cross entorpy loss for the search probabilities \n",
    "        policy_loss = torch.mean(torch.sum(mcts_p * log_action_p, -1))\n",
    "        # total loss\n",
    "        loss = value_loss - policy_loss\n",
    "        loss.backward()\n",
    "        self.optimizer.step()\n",
    "        return value_loss.item(), -1 * policy_loss.item()\n",
    "            \n",
    "    def save(self, filename):\n",
    "        torch.save(self.state_dict(), filename)\n",
    "    \n",
    "    @classmethod\n",
    "    def load(cls, filename):\n",
    "        policy_value_net = cls()\n",
    "        policy_value_net.net.load_state_dict(torch.load(filename))\n",
    "        return policy_value_net"
   ]
  },
  {
   "cell_type": "code",
   "execution_count": 5,
   "metadata": {},
   "outputs": [],
   "source": [
    "def to_state(observation, info, agent_mark_mapping):\n",
    "    agent_index = info['agent_index']\n",
    "    # mark = agent_mark_mapping[info['agent_index']]\n",
    "    mark_list = list(agent_mark_mapping.values())\n",
    "    num_agents = len(mark_list)\n",
    "    array_list = []\n",
    "    for i in range(num_agents):\n",
    "        index = (agent_index + i) % num_agents\n",
    "        mark = mark_list[index]\n",
    "        array_list.append(observation == mark)\n",
    "    state = np.stack(array_list)\n",
    "    return state"
   ]
  },
  {
   "cell_type": "code",
   "execution_count": 60,
   "metadata": {},
   "outputs": [],
   "source": [
    "class AgentNode:\n",
    "    \"\"\"\n",
    "    Each state_action pair (s, a) stores a set of statistics, {N(s, a), W(s, a), Q(s, a), P(s, a)},\n",
    "    where N(s, a) is the visit count, W(s, a) is the total action-value, Q(s, a) is the mean action-value,\n",
    "    and P(s, a) is the prior probability of selecting a in s.\n",
    "    \"\"\"\n",
    "    def __init__(self, parent, num_actions, P, N=0, W=0):\n",
    "        \n",
    "        self.parent = parent\n",
    "        self.num_actions = num_actions\n",
    "        self.P = P\n",
    "        self.N = N\n",
    "        self.W = W\n",
    "        self.children = {}\n",
    "        self.child_N = np.zeros(num_actions, dtype=np.float32)\n",
    "        self.child_W = np.zeros(num_actions, dtype=np.float32)\n",
    "        self.child_P = None\n",
    "        self.agent_index = None\n",
    "        self.is_expanded = False\n",
    "\n",
    "    def select(self, c_puct=1):\n",
    "        if not self.is_expand:\n",
    "            raise ValueError('Expand leaf node first.')\n",
    "        \n",
    "        Q = self.child_W / np.where(self.child_N > 0, self.child_N, 1)\n",
    "        U = c_puct * self.child_P * np.sqrt(self.N) / (1 + self.child_N)\n",
    "        action = np.argmax(Q + U)\n",
    "        if action not in self.children.keys():\n",
    "            self.children[action] = AgentNode(\n",
    "                self,\n",
    "                self.num_actions,\n",
    "                self.child_P[action]\n",
    "            )\n",
    "        return action, self.children[action]\n",
    "    \n",
    "    def expand(self, agent_index, next_P):\n",
    "        self.agent_index = agent_index\n",
    "        self.child_P = next_P\n",
    "        self.is_expand = True\n",
    "        # for action in range(action_space.start, action_space.n):\n",
    "        #     if action not in self.children.keys():\n",
    "        #         self.children[action] = AgentNode(\n",
    "        #             self,\n",
    "        #             next_P[action]\n",
    "        #         )\n",
    "\n",
    "    def back_propagate(self, value):\n",
    "        self.N += 1\n",
    "        self.W += value\n",
    "        if self.parent is not None:\n",
    "            self.parent.back_propagate(-value)"
   ]
  },
  {
   "cell_type": "code",
   "execution_count": 117,
   "metadata": {},
   "outputs": [
    {
     "name": "stdout",
     "output_type": "stream",
     "text": [
      "[-0.30607694]\n"
     ]
    }
   ],
   "source": [
    "env = gym.make('games/TicTacToe', max_episode_steps=100)\n",
    "net = PolicyValueNet()\n",
    "\n",
    "action_space = env.unwrapped.action_space\n",
    "agent_mark_mapping = env.unwrapped.agent_mark_mapping\n",
    "\n",
    "observation, info = env.reset()\n",
    "root_node = AgentNode(\n",
    "    parent = None,\n",
    "    num_actions = action_space.n,\n",
    "    P = 1\n",
    ")\n",
    "\n",
    "state = to_state(observation, info, agent_mark_mapping)\n",
    "prior_p, value = net.policy_value(state)\n",
    "root_node.expand(info['agent_index'], prior_p[0])\n",
    "root_node.back_propagate(value[0])\n",
    "\n",
    "\n",
    "num_simulations = 1000\n",
    "while root_node.N < num_simulations:\n",
    "    sim_env = copy.deepcopy(env)\n",
    "    node = root_node\n",
    "    \n",
    "    is_end = False\n",
    "    while not is_end:\n",
    "        action, node = node.select()\n",
    "        observation, reward, terminated, truncated, info = sim_env.step(action)\n",
    "        state = to_state(observation, info, agent_mark_mapping)\n",
    "        prior_p, value = net.policy_value(state)\n",
    "        node.expand(info['agent_index'], prior_p[0])\n",
    "        node.back_propagate(value[0])\n",
    "        is_end = terminated or truncated\n",
    "    # observation, info = env.reset()\n",
    "#     is_end = False\n",
    "#     while node.is_expanded\n",
    "print(root_node.W)"
   ]
  },
  {
   "cell_type": "code",
   "execution_count": null,
   "metadata": {},
   "outputs": [],
   "source": []
  },
  {
   "cell_type": "code",
   "execution_count": 92,
   "metadata": {},
   "outputs": [
    {
     "data": {
      "text/plain": [
       "array([[0.]], dtype=float32)"
      ]
     },
     "execution_count": 92,
     "metadata": {},
     "output_type": "execute_result"
    }
   ],
   "source": [
    "root_node.children[8].W"
   ]
  },
  {
   "cell_type": "code",
   "execution_count": 65,
   "metadata": {},
   "outputs": [],
   "source": [
    "env = gym.make('games/TicTacToe')\n",
    "action_space = env.unwrapped.action_space\n",
    "agent_index_space = env.unwrapped.agent_index_space\n",
    "agent_mark_mapping = env.unwrapped.agent_mark_mapping\n",
    "\n",
    "agent_list = [Agent(mark=agent_mark_mapping[i], action_space=action_space) for i in range(agent_index_space.start, agent_index_space.n)]"
   ]
  },
  {
   "cell_type": "code",
   "execution_count": 69,
   "metadata": {},
   "outputs": [
    {
     "name": "stdout",
     "output_type": "stream",
     "text": [
      "[[0 0 0]\n",
      " [0 0 0]\n",
      " [0 0 0]]\n",
      "[[0 0 0]\n",
      " [0 0 0]\n",
      " [0 0 2]]\n",
      "[[0 0 1]\n",
      " [0 0 0]\n",
      " [0 0 2]]\n",
      "[[2 0 1]\n",
      " [0 0 0]\n",
      " [0 0 2]]\n",
      "[[2 0 1]\n",
      " [0 0 1]\n",
      " [0 0 2]]\n",
      "[[2 0 1]\n",
      " [0 0 1]\n",
      " [0 2 2]]\n",
      "[[2 0 1]\n",
      " [1 0 1]\n",
      " [0 2 2]]\n"
     ]
    }
   ],
   "source": [
    "observation, info = env.reset()\n",
    "is_end = False\n",
    "while not is_end:\n",
    "    print(observation)\n",
    "    agent = agent_list[info['agent_index']]\n",
    "    action, q_values = agent.play(observation)\n",
    "    observation, reward, terminated, truncated, info = env.step(action)\n",
    "    is_end = terminated or truncated"
   ]
  },
  {
   "cell_type": "code",
   "execution_count": null,
   "metadata": {},
   "outputs": [],
   "source": []
  },
  {
   "cell_type": "code",
   "execution_count": null,
   "metadata": {},
   "outputs": [],
   "source": []
  },
  {
   "cell_type": "code",
   "execution_count": null,
   "metadata": {},
   "outputs": [],
   "source": []
  },
  {
   "cell_type": "code",
   "execution_count": null,
   "metadata": {},
   "outputs": [],
   "source": []
  },
  {
   "cell_type": "code",
   "execution_count": null,
   "metadata": {},
   "outputs": [],
   "source": []
  }
 ],
 "metadata": {
  "kernelspec": {
   "display_name": "rl",
   "language": "python",
   "name": "python3"
  },
  "language_info": {
   "codemirror_mode": {
    "name": "ipython",
    "version": 3
   },
   "file_extension": ".py",
   "mimetype": "text/x-python",
   "name": "python",
   "nbconvert_exporter": "python",
   "pygments_lexer": "ipython3",
   "version": "3.10.13"
  }
 },
 "nbformat": 4,
 "nbformat_minor": 2
}
