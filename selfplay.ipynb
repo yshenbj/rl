{
 "cells": [
  {
   "cell_type": "code",
   "execution_count": 12,
   "metadata": {},
   "outputs": [],
   "source": [
    "import numpy as np\n",
    "import gymnasium as gym\n",
    "import games"
   ]
  },
  {
   "cell_type": "code",
   "execution_count": 5,
   "metadata": {},
   "outputs": [],
   "source": [
    "env = gym.make('games/TicTacToe')"
   ]
  },
  {
   "cell_type": "code",
   "execution_count": null,
   "metadata": {},
   "outputs": [],
   "source": [
    "class PolicyValueNet:\n",
    "    def forward(state):\n",
    "        pass\n",
    "    "
   ]
  },
  {
   "cell_type": "code",
   "execution_count": null,
   "metadata": {},
   "outputs": [],
   "source": [
    "class AgentNode:\n",
    "    \"\"\"\n",
    "    Each state_action pair (s, a) stores a set of statistics, {N(s, a), W(s, a), Q(s, a), P(s, a)},\n",
    "    where N(s, a) is the visit count, W(s, a) is the mean action-value, and P(s, a) is the prior probability\n",
    "    of selecting a in s.\n",
    "    \"\"\"\n",
    "    def __init__(self, parent, N, W, Q, P):\n",
    "        self.parent = parent\n",
    "        self.N = N\n",
    "        self.W = W\n",
    "        self.Q = Q\n",
    "        self.P = P\n",
    "\n",
    "    def select(self, state):\n",
    "        next_prior_p, state_value = PolicyValueNet.forward(state)\n",
    "        upper_confs = self.prior_p\n",
    "        pass\n",
    "\n",
    "\n"
   ]
  },
  {
   "cell_type": "code",
   "execution_count": null,
   "metadata": {},
   "outputs": [],
   "source": []
  },
  {
   "cell_type": "code",
   "execution_count": 64,
   "metadata": {},
   "outputs": [],
   "source": [
    "class Agent:\n",
    "    def __init__(self, mark, action_space, q_function):\n",
    "        self.mark = mark\n",
    "        self.action_space = action_space\n",
    "        self.q_function = q_function\n",
    "        \n",
    "    def set_mark(self, mark):\n",
    "        self.mark = mark\n",
    "\n",
    "    def play(self, state):\n",
    "        q_values = None\n",
    "        return np.random.randint(self.action_space.start, self.action_space.n), q_values"
   ]
  },
  {
   "cell_type": "code",
   "execution_count": 65,
   "metadata": {},
   "outputs": [],
   "source": [
    "env = gym.make('games/TicTacToe')\n",
    "action_space = env.unwrapped.action_space\n",
    "agent_index_space = env.unwrapped.agent_index_space\n",
    "agent_mark_mapping = env.unwrapped.agent_mark_mapping\n",
    "\n",
    "agent_list = [Agent(mark=agent_mark_mapping[i], action_space=action_space) for i in range(agent_index_space.start, agent_index_space.n)]"
   ]
  },
  {
   "cell_type": "code",
   "execution_count": 69,
   "metadata": {},
   "outputs": [
    {
     "name": "stdout",
     "output_type": "stream",
     "text": [
      "[[0 0 0]\n",
      " [0 0 0]\n",
      " [0 0 0]]\n",
      "[[0 0 0]\n",
      " [0 0 0]\n",
      " [0 0 2]]\n",
      "[[0 0 1]\n",
      " [0 0 0]\n",
      " [0 0 2]]\n",
      "[[2 0 1]\n",
      " [0 0 0]\n",
      " [0 0 2]]\n",
      "[[2 0 1]\n",
      " [0 0 1]\n",
      " [0 0 2]]\n",
      "[[2 0 1]\n",
      " [0 0 1]\n",
      " [0 2 2]]\n",
      "[[2 0 1]\n",
      " [1 0 1]\n",
      " [0 2 2]]\n"
     ]
    }
   ],
   "source": [
    "observation, info = env.reset()\n",
    "is_end = False\n",
    "while not is_end:\n",
    "    print(observation)\n",
    "    agent = agent_list[info['agent_index']]\n",
    "    action, q_values = agent.play(observation)\n",
    "    observation, reward, terminated, truncated, info = env.step(action)\n",
    "    is_end = terminated or truncated"
   ]
  },
  {
   "cell_type": "code",
   "execution_count": null,
   "metadata": {},
   "outputs": [],
   "source": []
  },
  {
   "cell_type": "code",
   "execution_count": null,
   "metadata": {},
   "outputs": [],
   "source": []
  },
  {
   "cell_type": "code",
   "execution_count": null,
   "metadata": {},
   "outputs": [],
   "source": []
  },
  {
   "cell_type": "code",
   "execution_count": null,
   "metadata": {},
   "outputs": [],
   "source": []
  },
  {
   "cell_type": "code",
   "execution_count": null,
   "metadata": {},
   "outputs": [],
   "source": []
  }
 ],
 "metadata": {
  "kernelspec": {
   "display_name": "rl",
   "language": "python",
   "name": "python3"
  },
  "language_info": {
   "codemirror_mode": {
    "name": "ipython",
    "version": 3
   },
   "file_extension": ".py",
   "mimetype": "text/x-python",
   "name": "python",
   "nbconvert_exporter": "python",
   "pygments_lexer": "ipython3",
   "version": "3.10.13"
  }
 },
 "nbformat": 4,
 "nbformat_minor": 2
}
