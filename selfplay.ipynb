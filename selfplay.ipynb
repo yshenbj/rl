{
 "cells": [
  {
   "cell_type": "code",
   "execution_count": 1,
   "metadata": {},
   "outputs": [],
   "source": [
    "import copy\n",
    "import multiprocessing as mp\n",
    "\n",
    "import numpy as np\n",
    "import gymnasium as gym\n",
    "\n",
    "import torch\n",
    "import torch.nn as nn\n",
    "import torch.optim as optim\n",
    "import torch.nn.functional as F\n",
    "\n",
    "import games"
   ]
  },
  {
   "cell_type": "code",
   "execution_count": 14,
   "metadata": {},
   "outputs": [],
   "source": [
    "class Net(nn.Module):\n",
    "    def __init__(self):\n",
    "        super().__init__()\n",
    "        # common layers\n",
    "        self.conv1 = nn.Conv2d(2, 32, kernel_size=3, padding=1)\n",
    "        self.conv2 = nn.Conv2d(32, 64, kernel_size=3, padding=1)\n",
    "        self.conv3 = nn.Conv2d(64, 128, kernel_size=3, padding=1)\n",
    "        # action policy layers\n",
    "        self.act_conv1 = nn.Conv2d(128, 4, kernel_size=1)\n",
    "        self.act_fc1 = nn.Linear(4*3*3, 3*3)\n",
    "        # state value layers\n",
    "        self.val_conv1 = nn.Conv2d(128, 4, kernel_size=1)\n",
    "        self.val_fc1 = nn.Linear(4*3*3, 1)\n",
    "    \n",
    "    def forward(self, x):\n",
    "        x = F.relu(self.conv1(x))\n",
    "        x = F.relu(self.conv2(x))\n",
    "        x = F.relu(self.conv3(x))\n",
    "        x_act = F.relu(self.act_conv1(x))\n",
    "        x_act = x_act.view(-1, 4*3*3)\n",
    "        x_act = F.softmax(self.act_fc1(x_act), dim=-1)\n",
    "        x_val = F.relu(self.val_conv1(x))\n",
    "        x_val = x_val.view(-1, 4*3*3)\n",
    "        x_val = self.val_fc1(x_val)\n",
    "        return x_act, x_val\n",
    "    \n",
    "class PolicyValueNet:\n",
    "    def __init__(self):\n",
    "        self.device = torch.device(\"cuda\" if torch.cuda.is_available() else \"cpu\")\n",
    "        self.net = Net().to(self.device)\n",
    "        self.lr = 1e-3\n",
    "        self.c = 1e-4\n",
    "        self.optimizer = optim.Adam(self.net.parameters(), lr=self.lr, weight_decay=self.c)\n",
    "    \n",
    "    def policy_value(self, state):\n",
    "        state = torch.as_tensor(state, dtype=torch.float32, device=self.device)\n",
    "        with torch.no_grad():\n",
    "            action_p, value = self.net(state)\n",
    "        action_p = action_p.cpu().numpy()\n",
    "        value = value.cpu().numpy()\n",
    "        return action_p, value\n",
    "    \n",
    "    def update(self, state, mcts_p, reward):\n",
    "        state = torch.tensor(state, dtype=torch.float32, device=self.device)\n",
    "        mcts_p = torch.tensor(mcts_p, dtype=torch.float32, device=self.device)\n",
    "        reward = torch.tensor(reward, dtype=torch.float32, device=self.device)\n",
    "        self.optimizer.zero_grad()\n",
    "        action_p, value = self.net(state)\n",
    "        # cross entorpy loss for the search probabilities \n",
    "        policy_loss = torch.mean(torch.sum(mcts_p * torch.log(action_p), -1))\n",
    "        # mse loss for the state value\n",
    "        value_loss = F.mse_loss(value.view(-1), reward)\n",
    "        # total loss\n",
    "        loss = value_loss - policy_loss\n",
    "        loss.backward()\n",
    "        self.optimizer.step()\n",
    "        return value_loss.item(), -1 * policy_loss.item()\n",
    "            \n",
    "    def save(self, filename):\n",
    "        torch.save(self.net.state_dict(), filename)\n",
    "    \n",
    "    @classmethod\n",
    "    def load(cls, filename):\n",
    "        policy_value_net = cls()\n",
    "        policy_value_net.net.load_state_dict(torch.load(filename))\n",
    "        return policy_value_net"
   ]
  },
  {
   "cell_type": "code",
   "execution_count": 15,
   "metadata": {},
   "outputs": [],
   "source": [
    "class AgentNode:\n",
    "    \"\"\"\n",
    "    Agent node of MCTS\n",
    "    \"\"\"\n",
    "    def __init__(self, parent, action, num_actions, P, N=0, W=0):\n",
    "        \"\"\"\n",
    "        Each state_action pair (s, a) stores a set of statistics, {N(s, a), W(s, a), Q(s, a), P(s, a)},\n",
    "        where N(s, a) is the visit count, W(s, a) is the total action-value, Q(s, a) is the mean action-value,\n",
    "        and P(s, a) is the prior probability of selecting a in s.\n",
    "        \"\"\"\n",
    "        self.parent = parent\n",
    "        self.action = action\n",
    "        self.num_actions = num_actions\n",
    "        self.P = P\n",
    "        self.N = N\n",
    "        self.W = W\n",
    "        self.children = {}\n",
    "        self.child_N = np.zeros(num_actions, dtype=np.float32)\n",
    "        self.child_W = np.zeros(num_actions, dtype=np.float32)\n",
    "        self.child_P = None\n",
    "        self.agent_index = None\n",
    "        self.is_expanded = False\n",
    "\n",
    "    def select(self, c_puct_base, c_puct_init):\n",
    "        \"\"\"\n",
    "\n",
    "        Args:\n",
    "            c_puct_base (_type_): _description_\n",
    "            c_puct_init (_type_): _description_\n",
    "\n",
    "        Returns:\n",
    "            _type_: _description_\n",
    "        \"\"\"\n",
    "        c_puct = np.log((1 + self.N + c_puct_base) / c_puct_base) + c_puct_init\n",
    "        Q = self.child_W / np.where(self.child_N > 0, self.child_N, 1)\n",
    "        U = c_puct * self.child_P * np.sqrt(self.N) / (1 + self.child_N)\n",
    "        action = np.argmax(-1 * Q + U)\n",
    "    \n",
    "        if action not in self.children.keys():\n",
    "            self.children[action] = AgentNode(\n",
    "                self,\n",
    "                action,\n",
    "                self.num_actions,\n",
    "                self.child_P[action]\n",
    "            )\n",
    "        return action, self.children[action]\n",
    "    \n",
    "    def expand(self, agent_index, next_P):\n",
    "        self.agent_index = agent_index\n",
    "        self.child_P = next_P\n",
    "        self.is_expanded = True\n",
    "\n",
    "    def back_propagate(self, value):\n",
    "        self.N += 1\n",
    "        self.W += value\n",
    "        if self.parent:\n",
    "            self.parent.child_N[self.action] = self.N\n",
    "            self.parent.child_W[self.action] = self.W\n",
    "            self.parent.back_propagate(-value)\n",
    "            \n",
    "    def as_root(self):\n",
    "        self.parent = None\n",
    "        self.action = None\n",
    "        self.P = 1\n",
    "    \n",
    "    @property\n",
    "    def Q(self):\n",
    "        return self.W / self.N"
   ]
  },
  {
   "cell_type": "code",
   "execution_count": 16,
   "metadata": {},
   "outputs": [],
   "source": [
    "class MCTSPlayer:\n",
    "    def __init__(self, policy_value_net, c_puct_base=5, c_puct_init=0, num_simulations=100, noise=False, deterministic=False):\n",
    "        self.policy_value_net = policy_value_net\n",
    "        self.c_puct_base = c_puct_base\n",
    "        self.c_puct_init = c_puct_init\n",
    "        self.num_simulations = num_simulations\n",
    "        self.noise = noise\n",
    "        self.deterministic = deterministic\n",
    "        self.rng = np.random.default_rng()\n",
    "    \n",
    "    def to_state(self, observation, info, agent_mark_mapping):\n",
    "        \"\"\" \n",
    "        Transfer environmental observation and information to a state tensor as neural network input.\n",
    "        Board observation will transfer to an N * N * M image stack, each plane represent the board positions \n",
    "        oriented to a certain player (N * N with dummy), current player's plane is on the top.\n",
    "        state: numpy array with shape (2, 3, 3)\n",
    "        \"\"\"\n",
    "        agent_index = info['agent_index']\n",
    "        mark_list = list(agent_mark_mapping.values())\n",
    "        num_agents = len(mark_list)\n",
    "        array_list = []\n",
    "        for i in range(num_agents):\n",
    "            index = (agent_index + i) % num_agents\n",
    "            mark = mark_list[index]\n",
    "            array_list.append(observation == mark)\n",
    "        state = np.stack(array_list, dtype=np.float32)\n",
    "        return state\n",
    "    \n",
    "    def add_dirchleet_noise(self, node, action_space, epsilon=0.25, alpha=0.03):\n",
    "        alphas = np.ones(action_space.n) * alpha\n",
    "        noise = self.rng.dirichlet(alphas)\n",
    "        node.child_P = node.child_P * (1 - epsilon) + noise * epsilon\n",
    "        \n",
    "    def get_mcts_p(self, child_N, temperature=0.1):\n",
    "        child_N = child_N ** (1 / temperature)\n",
    "        return child_N / sum(child_N)\n",
    "    \n",
    "    def mcts(self, env, observation, info, root_node=None):\n",
    "        # Initialize environment and root node.\n",
    "        action_space = env.unwrapped.action_space\n",
    "        agent_mark_mapping = env.unwrapped.agent_mark_mapping\n",
    "        root_state = self.to_state(observation, info, agent_mark_mapping)\n",
    "        prior_p, value = self.policy_value_net.policy_value(root_state)\n",
    "        if not root_node:\n",
    "            root_node = AgentNode(None, None, action_space.n, 1)\n",
    "        root_node.expand(info['agent_index'], prior_p[0])\n",
    "        root_node.back_propagate(value.item())\n",
    "        \n",
    "        # Start mcts simulation.\n",
    "        while root_node.N < self.num_simulations:\n",
    "            sim_env = copy.deepcopy(env)\n",
    "            node = root_node\n",
    "            # Add dirchleet noise.\n",
    "            if self.noise:\n",
    "                self.add_dirchleet_noise(node, action_space)\n",
    "                \n",
    "            while node.is_expanded:\n",
    "                # SELECT\n",
    "                action, node = node.select(self.c_puct_base, self.c_puct_init)\n",
    "                # INTERACT\n",
    "                observation, reward, terminated, truncated, info = sim_env.step(action)               \n",
    "                if terminated or truncated:\n",
    "                    # BACK PROPAGATE (REWARD)\n",
    "                    node.back_propagate(-reward)\n",
    "            # EVALUATE\n",
    "            state = self.to_state(observation, info, agent_mark_mapping)\n",
    "            prior_p, value = self.policy_value_net.policy_value(state)\n",
    "            # EXPAND\n",
    "            node.expand(info['agent_index'], prior_p[0])\n",
    "            # BACK PROPAGATE (VALUE)\n",
    "            node.back_propagate(value.item())\n",
    "        \n",
    "        # Choose best action for root node (deterministic or stochastic).\n",
    "        mcts_p = self.get_mcts_p(root_node.child_N)\n",
    "        if self.deterministic:\n",
    "            action = np.argmax(mcts_p)\n",
    "        else:\n",
    "            action = self.rng.choice(np.arange(action_space.n), p=mcts_p)\n",
    "        \n",
    "        if action in root_node.children.keys():\n",
    "            next_root_node = root_node.children[action]\n",
    "            next_root_node.as_root()\n",
    "        else:\n",
    "            next_root_node = None\n",
    "        \n",
    "        return root_state, action, mcts_p, next_root_node"
   ]
  },
  {
   "cell_type": "code",
   "execution_count": 17,
   "metadata": {},
   "outputs": [],
   "source": [
    "# env = gym.make('games/TicTacToe', max_episode_steps=100)\n",
    "# policy_value_net = PolicyValueNet()\n",
    "# player = MCTSPlayer(policy_value_net)\n",
    "# observation, info = env.reset()\n",
    "# root_state, action, mcts_p, next_root_node = player.mcts(env, observation, info)"
   ]
  },
  {
   "cell_type": "code",
   "execution_count": 18,
   "metadata": {},
   "outputs": [],
   "source": [
    "def selfplay(env, policy_value_net):\n",
    "    agent_index_list = []\n",
    "    state_list = []\n",
    "    mcts_p_list = []\n",
    "    \n",
    "    \n",
    "    observation, info = env.reset()\n",
    "    player = MCTSPlayer(policy_value_net)\n",
    "    root_node = None\n",
    "    is_end = False\n",
    "    \n",
    "    while not is_end:\n",
    "        agent_index_list.append(info['agent_index'])\n",
    "        root_state, action, mcts_p, root_node = player.mcts(env, observation, info, root_node)\n",
    "        state_list.append(root_state)\n",
    "        mcts_p_list.append(mcts_p)\n",
    "        observation, reward, terminated, truncated, info = env.step(action)\n",
    "        is_end = terminated or truncated\n",
    "\n",
    "    reward_list = [\n",
    "        reward if index == agent_index_list[-1] else -reward for index in agent_index_list\n",
    "    ]\n",
    "    \n",
    "    return np.array(state_list), np.array(mcts_p_list), np.array(reward_list)"
   ]
  },
  {
   "cell_type": "code",
   "execution_count": 19,
   "metadata": {},
   "outputs": [],
   "source": [
    "env = gym.make('games/TicTacToe', max_episode_steps=100)\n",
    "policy_value_net = PolicyValueNet()\n",
    "state_list, mcts_p_list, value_list = selfplay(env, policy_value_net)"
   ]
  },
  {
   "cell_type": "code",
   "execution_count": 22,
   "metadata": {},
   "outputs": [
    {
     "name": "stdout",
     "output_type": "stream",
     "text": [
      "value loss: 0.9995370507240295, policy loss: 2.156324863433838\n",
      "value loss: 1.01210618019104, policy loss: 2.1506924629211426\n",
      "value loss: 0.9906719923019409, policy loss: 2.1616837978363037\n",
      "value loss: 0.9546806216239929, policy loss: 2.1479806900024414\n",
      "value loss: 0.9881836175918579, policy loss: 2.1363799571990967\n",
      "value loss: 1.010827898979187, policy loss: 2.1650583744049072\n",
      "value loss: 1.0745843648910522, policy loss: 2.165300130844116\n",
      "value loss: 0.8930301070213318, policy loss: 2.179348945617676\n",
      "value loss: 0.8937676548957825, policy loss: 2.1887400150299072\n",
      "value loss: 1.1154314279556274, policy loss: 2.1826398372650146\n",
      "value loss: 1.0333322286605835, policy loss: 2.154114007949829\n",
      "value loss: 1.0666056871414185, policy loss: 2.165682315826416\n",
      "value loss: 0.976568341255188, policy loss: 2.1685702800750732\n",
      "value loss: 0.8880721926689148, policy loss: 2.1961989402770996\n",
      "value loss: 0.9891560077667236, policy loss: 2.174851894378662\n",
      "value loss: 0.9904701113700867, policy loss: 2.1860318183898926\n",
      "value loss: 0.9778421521186829, policy loss: 2.1880972385406494\n",
      "value loss: 1.0838968753814697, policy loss: 2.1741127967834473\n",
      "value loss: 0.9667577743530273, policy loss: 2.1841559410095215\n",
      "value loss: 1.013513445854187, policy loss: 2.1679110527038574\n",
      "value loss: 0.8860741853713989, policy loss: 2.1540465354919434\n",
      "value loss: 1.0312672853469849, policy loss: 2.1605947017669678\n",
      "value loss: 1.0375126600265503, policy loss: 2.164980411529541\n",
      "value loss: 0.9204452037811279, policy loss: 2.174022912979126\n",
      "value loss: 0.9971323609352112, policy loss: 2.1840171813964844\n",
      "value loss: 1.1702443361282349, policy loss: 2.1760127544403076\n",
      "value loss: 0.014646399766206741, policy loss: 2.1105339527130127\n",
      "value loss: 0.9658527970314026, policy loss: 2.1980679035186768\n",
      "value loss: 0.9961680173873901, policy loss: 2.19096302986145\n",
      "value loss: 0.9426862597465515, policy loss: 2.1674141883850098\n",
      "value loss: 1.1159939765930176, policy loss: 2.144070863723755\n",
      "value loss: 1.0616625547409058, policy loss: 2.156891345977783\n",
      "value loss: 0.9252170920372009, policy loss: 2.147723913192749\n",
      "value loss: 1.1157417297363281, policy loss: 2.1601905822753906\n",
      "value loss: 0.9020153880119324, policy loss: 2.1366090774536133\n",
      "value loss: 1.1892077922821045, policy loss: 2.1456453800201416\n",
      "value loss: 0.8857138752937317, policy loss: 2.189063787460327\n",
      "value loss: 0.9707769155502319, policy loss: 2.163579225540161\n",
      "value loss: 1.0140820741653442, policy loss: 2.1642539501190186\n",
      "value loss: 0.9450899958610535, policy loss: 2.1660547256469727\n",
      "value loss: 1.0156456232070923, policy loss: 2.2147746086120605\n",
      "value loss: 1.1062324047088623, policy loss: 2.157766580581665\n",
      "value loss: 0.8472882509231567, policy loss: 2.1610090732574463\n",
      "value loss: 0.9608185291290283, policy loss: 2.145082950592041\n",
      "value loss: 0.027500800788402557, policy loss: 2.069246292114258\n",
      "value loss: 1.0810383558273315, policy loss: 2.141272783279419\n",
      "value loss: 1.137417197227478, policy loss: 2.1413204669952393\n",
      "value loss: 0.8408108949661255, policy loss: 2.1705644130706787\n",
      "value loss: 1.0439575910568237, policy loss: 2.0787065029144287\n",
      "value loss: 0.9724032878875732, policy loss: 2.0489583015441895\n",
      "value loss: 0.938443660736084, policy loss: 2.0841658115386963\n",
      "value loss: 1.006370186805725, policy loss: 2.1056883335113525\n",
      "value loss: 0.9335792064666748, policy loss: 2.00834584236145\n",
      "value loss: 0.9142890572547913, policy loss: 1.9543260335922241\n",
      "value loss: 1.037889838218689, policy loss: 2.0437204837799072\n",
      "value loss: 0.9591137170791626, policy loss: 1.9108192920684814\n",
      "value loss: 0.006130096968263388, policy loss: 1.7291401624679565\n",
      "value loss: 0.006004374008625746, policy loss: 1.684798240661621\n",
      "value loss: 0.9288376569747925, policy loss: 1.9035322666168213\n",
      "value loss: 0.8354797959327698, policy loss: 1.8066378831863403\n",
      "value loss: 0.8855096697807312, policy loss: 1.7168773412704468\n",
      "value loss: 0.011879509314894676, policy loss: 1.3483211994171143\n",
      "value loss: 0.01461473386734724, policy loss: 1.2266974449157715\n",
      "value loss: 0.014955001883208752, policy loss: 1.1673386096954346\n",
      "value loss: 0.015369299799203873, policy loss: 1.060683012008667\n",
      "value loss: 0.012050317600369453, policy loss: 0.9112655520439148\n",
      "value loss: 0.010689022950828075, policy loss: 0.756222128868103\n",
      "value loss: 0.007767272647470236, policy loss: 0.6448211669921875\n",
      "value loss: 0.004969166591763496, policy loss: 0.523527204990387\n",
      "value loss: 0.002954313764348626, policy loss: 0.37534722685813904\n",
      "value loss: 0.00037877465365454555, policy loss: 0.2501806616783142\n",
      "value loss: 0.0006951174000278115, policy loss: 0.15353575348854065\n",
      "value loss: 0.003361942246556282, policy loss: 0.08651801943778992\n",
      "value loss: 0.004213184583932161, policy loss: 0.04542677104473114\n",
      "value loss: 0.0014987236354500055, policy loss: 0.022509347647428513\n",
      "value loss: 0.00016639033856336027, policy loss: 0.01069184672087431\n",
      "value loss: 0.002762232208624482, policy loss: 0.004933236166834831\n",
      "value loss: 0.0028573786839842796, policy loss: 0.0022411358077079058\n",
      "value loss: 0.00020283400954212993, policy loss: 0.0010146191343665123\n",
      "value loss: 0.001592207350768149, policy loss: 0.0004627935995813459\n",
      "value loss: 0.0026149493642151356, policy loss: 0.00021533615654334426\n",
      "value loss: 0.0003066358040086925, policy loss: 0.00010297763219568878\n",
      "value loss: 0.001156322192400694, policy loss: 5.069182225270197e-05\n",
      "value loss: 0.0021525430493056774, policy loss: 2.569899515947327e-05\n",
      "value loss: 0.00020922525436617434, policy loss: 1.3466013115248643e-05\n",
      "value loss: 0.0011565955355763435, policy loss: 7.3349892772967e-06\n",
      "value loss: 0.0015278415521606803, policy loss: 4.153266218054341e-06\n",
      "value loss: 7.887397077865899e-05, policy loss: 2.4235303044406464e-06\n",
      "value loss: 0.001294382382184267, policy loss: 1.5163444686550065e-06\n",
      "value loss: 0.0008050304022617638, policy loss: 9.334097512692097e-07\n",
      "value loss: 0.00021990954701323062, policy loss: 6.055835797269538e-07\n",
      "value loss: 0.0011985425371676683, policy loss: 4.076959498888755e-07\n",
      "value loss: 0.00021350610768422484, policy loss: 2.753735373062227e-07\n",
      "value loss: 0.000582380045671016, policy loss: 2.0623213004000718e-07\n",
      "value loss: 0.0007241349667310715, policy loss: 1.4066698383885523e-07\n",
      "value loss: 7.630144682480022e-05, policy loss: 1.3589860259344277e-07\n",
      "value loss: 0.0007417657761834562, policy loss: 1.3232232731752447e-07\n",
      "value loss: 0.00019487367535475641, policy loss: 7.033349191942762e-08\n",
      "value loss: 0.00032816670136526227, policy loss: 9.536747391791778e-09\n",
      "value loss: 0.0004710334469564259, policy loss: 8.344653856795503e-09\n"
     ]
    }
   ],
   "source": [
    "env = gym.make('games/TicTacToe', max_episode_steps=100)\n",
    "policy_value_net = PolicyValueNet()\n",
    "num_episodes = 100\n",
    "for _ in range(num_episodes):\n",
    "    state, mcts_p, reward = selfplay(env, policy_value_net)\n",
    "    value_loss, policy_loss = policy_value_net.update(state, mcts_p, reward)\n",
    "    print(f'value loss: {value_loss}, policy loss: {policy_loss}')\n",
    "policy_value_net.save('weights.pth')"
   ]
  },
  {
   "cell_type": "code",
   "execution_count": 23,
   "metadata": {},
   "outputs": [],
   "source": [
    "player = MCTSPlayer(policy_value_net)\n",
    "env = gym.make('games/TicTacToe', max_episode_steps=100, render_mode='rgb_array')"
   ]
  },
  {
   "cell_type": "code",
   "execution_count": null,
   "metadata": {},
   "outputs": [],
   "source": []
  },
  {
   "cell_type": "code",
   "execution_count": 46,
   "metadata": {},
   "outputs": [
    {
     "name": "stdout",
     "output_type": "stream",
     "text": [
      "[[0 0 0]\n",
      " [0 0 0]\n",
      " [0 0 0]]\n"
     ]
    }
   ],
   "source": [
    "observation, info = env.reset()\n",
    "print(observation)"
   ]
  },
  {
   "cell_type": "code",
   "execution_count": 47,
   "metadata": {},
   "outputs": [
    {
     "data": {
      "text/plain": [
       "0"
      ]
     },
     "execution_count": 47,
     "metadata": {},
     "output_type": "execute_result"
    }
   ],
   "source": [
    "info['agent_index']"
   ]
  },
  {
   "cell_type": "code",
   "execution_count": 48,
   "metadata": {},
   "outputs": [
    {
     "name": "stdout",
     "output_type": "stream",
     "text": [
      "5\n"
     ]
    }
   ],
   "source": [
    "root_state, action, mcts_p, next_root_node = player.mcts(env, observation, info)\n",
    "print(action)"
   ]
  },
  {
   "cell_type": "code",
   "execution_count": 49,
   "metadata": {},
   "outputs": [],
   "source": [
    "observation, reward, terminated, truncated, info = env.step(action)"
   ]
  },
  {
   "cell_type": "code",
   "execution_count": 50,
   "metadata": {},
   "outputs": [
    {
     "data": {
      "text/plain": [
       "array([[0, 0, 0],\n",
       "       [0, 0, 2],\n",
       "       [0, 0, 0]], dtype=int8)"
      ]
     },
     "execution_count": 50,
     "metadata": {},
     "output_type": "execute_result"
    }
   ],
   "source": [
    "observation"
   ]
  },
  {
   "cell_type": "code",
   "execution_count": 38,
   "metadata": {},
   "outputs": [],
   "source": [
    "observation, reward, terminated, truncated, info = env.step(4)"
   ]
  },
  {
   "cell_type": "code",
   "execution_count": 39,
   "metadata": {},
   "outputs": [
    {
     "name": "stdout",
     "output_type": "stream",
     "text": [
      "5\n"
     ]
    }
   ],
   "source": [
    "root_state, action, mcts_p, next_root_node = player.mcts(env, observation, info)\n",
    "print(action)"
   ]
  },
  {
   "cell_type": "code",
   "execution_count": 40,
   "metadata": {},
   "outputs": [],
   "source": [
    "observation, reward, terminated, truncated, info = env.step(5)"
   ]
  },
  {
   "cell_type": "code",
   "execution_count": 41,
   "metadata": {},
   "outputs": [
    {
     "data": {
      "text/plain": [
       "array([[0, 0, 0],\n",
       "       [0, 2, 1],\n",
       "       [0, 0, 0]], dtype=int8)"
      ]
     },
     "execution_count": 41,
     "metadata": {},
     "output_type": "execute_result"
    }
   ],
   "source": [
    "observation"
   ]
  },
  {
   "cell_type": "code",
   "execution_count": 52,
   "metadata": {},
   "outputs": [],
   "source": [
    "def to_state(observation, info, agent_mark_mapping):\n",
    "    agent_index = info['agent_index']\n",
    "    # mark = agent_mark_mapping[info['agent_index']]\n",
    "    mark_list = list(agent_mark_mapping.values())\n",
    "    num_agents = len(mark_list)\n",
    "    array_list = []\n",
    "    for i in range(num_agents):\n",
    "        index = (agent_index + i) % num_agents\n",
    "        mark = mark_list[index]\n",
    "        array_list.append(observation == mark)\n",
    "    state = np.stack(array_list)\n",
    "    return state"
   ]
  },
  {
   "cell_type": "code",
   "execution_count": 53,
   "metadata": {},
   "outputs": [],
   "source": [
    "def add_dirchleet_noise(node, action_space, epsilon=0.25, alpha=0.03):\n",
    "    alphas = np.ones(action_space.n) * alpha\n",
    "    noise = np.random.default_rng().dirichlet(alphas)\n",
    "    node.child_P = node.child_P * (1 - epsilon) + noise * epsilon"
   ]
  },
  {
   "cell_type": "code",
   "execution_count": 54,
   "metadata": {},
   "outputs": [],
   "source": [
    "def get_mcts_p(child_N, temperature=0.1):\n",
    "    child_N = child_N ** (1 / temperature)\n",
    "    return child_N / sum(child_N)"
   ]
  },
  {
   "cell_type": "code",
   "execution_count": 55,
   "metadata": {},
   "outputs": [],
   "source": [
    "def mcts(env, net, c_puct_base=5, c_puct_init=0, num_simulations=100, noise=False, deterministic=False):\n",
    "    # Initialize environment and root node.\n",
    "    action_space = env.unwrapped.action_space\n",
    "    agent_mark_mapping = env.unwrapped.agent_mark_mapping\n",
    "    root_node = AgentNode(None, None, action_space.n, 1)\n",
    "    observation, info = env.reset()\n",
    "    state = to_state(observation, info, agent_mark_mapping)\n",
    "    prior_p, value = net.policy_value_eval(state)\n",
    "    root_node.expand(info['agent_index'], prior_p[0])\n",
    "    root_node.back_propagate(value[0])\n",
    "    \n",
    "    # Start mcts simulation.\n",
    "    while root_node.N < num_simulations:\n",
    "        sim_env = copy.deepcopy(env)\n",
    "        node = root_node\n",
    "        is_end = False\n",
    "        while not is_end:\n",
    "            # SELECT\n",
    "            action, node = node.select(c_puct_base, c_puct_init)\n",
    "            # INTERACT\n",
    "            observation, reward, terminated, truncated, info = sim_env.step(action)\n",
    "            state = to_state(observation, info, agent_mark_mapping)\n",
    "            # EVALUATE\n",
    "            prior_p, value = net.policy_value_eval(state)\n",
    "            # EXPAND\n",
    "            node.expand(info['agent_index'], prior_p[0])\n",
    "            # BACK PROPAGATE\n",
    "            node.back_propagate(value.item())\n",
    "            is_end = terminated or truncated\n",
    "    \n",
    "    # Choose best action for root node (deterministic or stochastic).\n",
    "    mcts_p = get_mcts_p(root_node.child_N)\n",
    "    if deterministic:\n",
    "        action = np.argmax(mcts_p)\n",
    "    else:\n",
    "        action = np.random.default_rng().choice(np.arange(action_space.n), p=mcts_p)\n",
    "    \n",
    "    return action, mcts_p, root_node.Q"
   ]
  },
  {
   "cell_type": "code",
   "execution_count": 115,
   "metadata": {},
   "outputs": [
    {
     "name": "stdout",
     "output_type": "stream",
     "text": [
      "[6. 1. 4. 9. 3. 0. 3. 4. 3.]\n"
     ]
    }
   ],
   "source": [
    "env = gym.make('games/TicTacToe', max_episode_steps=100)\n",
    "policy_value_net = PolicyValueNet()\n",
    "\n",
    "action_space = env.unwrapped.action_space\n",
    "agent_mark_mapping = env.unwrapped.agent_mark_mapping\n",
    "\n",
    "observation, info = env.reset()\n",
    "root_node = AgentNode(\n",
    "    parent = None,\n",
    "    action = None,\n",
    "    num_actions = action_space.n,\n",
    "    P = 1\n",
    ")\n",
    "\n",
    "state = to_state(observation, info, agent_mark_mapping)\n",
    "prior_p, value = policy_value_net.policy_value_eval(state)\n",
    "root_node.expand(info['agent_index'], prior_p[0])\n",
    "root_node.back_propagate(value.item())\n",
    "\n",
    "\n",
    "num_simulations = 10000\n",
    "c_puct_base=5\n",
    "c_puct_init=0\n",
    "\n",
    "\n",
    "sim_env = copy.deepcopy(env)\n",
    "while root_node.N < num_simulations:\n",
    "    sim_env = copy.deepcopy(env)\n",
    "    node = root_node\n",
    "    while node.is_expanded:\n",
    "        # SELECT\n",
    "        action, node = node.select(c_puct_base, c_puct_init)\n",
    "        # INTERACT\n",
    "        observation, reward, terminated, truncated, info = sim_env.step(action)               \n",
    "        if terminated or truncated:\n",
    "            # BACK PROPAGATE (REWARD)\n",
    "            node.back_propagate(reward)\n",
    "    # EVALUATE\n",
    "    state = to_state(observation, info, agent_mark_mapping)\n",
    "    prior_p, value = policy_value_net.policy_value_eval(state)\n",
    "    # EXPAND\n",
    "    node.expand(info['agent_index'], prior_p[0])\n",
    "    # BACK PROPAGATE (VALUE)\n",
    "    node.back_propagate(value.item())\n",
    "\n",
    "print(root_node.child_W)"
   ]
  },
  {
   "cell_type": "code",
   "execution_count": 116,
   "metadata": {},
   "outputs": [
    {
     "data": {
      "text/plain": [
       "-0.0033"
      ]
     },
     "execution_count": 116,
     "metadata": {},
     "output_type": "execute_result"
    }
   ],
   "source": [
    "root_node.Q"
   ]
  },
  {
   "cell_type": "code",
   "execution_count": null,
   "metadata": {},
   "outputs": [],
   "source": []
  }
 ],
 "metadata": {
  "kernelspec": {
   "display_name": "rl",
   "language": "python",
   "name": "python3"
  },
  "language_info": {
   "codemirror_mode": {
    "name": "ipython",
    "version": 3
   },
   "file_extension": ".py",
   "mimetype": "text/x-python",
   "name": "python",
   "nbconvert_exporter": "python",
   "pygments_lexer": "ipython3",
   "version": "3.10.13"
  }
 },
 "nbformat": 4,
 "nbformat_minor": 2
}
